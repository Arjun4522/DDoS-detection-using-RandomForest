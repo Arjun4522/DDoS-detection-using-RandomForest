{
 "cells": [
  {
   "cell_type": "markdown",
   "metadata": {
    "id": "Yd-UzcSr176h"
   },
   "source": [
    "Mounting Drive"
   ]
  },
  {
   "cell_type": "code",
   "execution_count": 4,
   "metadata": {
    "colab": {
     "base_uri": "https://localhost:8080/",
     "height": 408
    },
    "id": "ZqcvrpSzVZnr",
    "outputId": "f4a7a37d-3c1c-4e97-b4dc-2c91ef531c3e"
   },
   "outputs": [
    {
     "name": "stdout",
     "output_type": "stream",
     "text": [
      "pktcount: 33538\n",
      "bytecounts: 34946596\n",
      "pktperflow 9380\n",
      "byteperflow 9773960\n",
      "\n",
      "Traffic is malicious(1).\n"
     ]
    },
    {
     "name": "stderr",
     "output_type": "stream",
     "text": [
      "C:\\Users\\Ghosal\\anaconda3\\lib\\site-packages\\sklearn\\base.py:420: UserWarning: X does not have valid feature names, but RandomForestClassifier was fitted with feature names\n",
      "  warnings.warn(\n"
     ]
    }
   ],
   "source": [
    "import joblib\n",
    "from sklearn.model_selection import train_test_split\n",
    "from sklearn.ensemble import RandomForestClassifier\n",
    "from sklearn.metrics import (\n",
    "    confusion_matrix, roc_curve, roc_auc_score, f1_score,\n",
    "    recall_score, precision_score, precision_recall_curve, accuracy_score,\n",
    "    classification_report, auc)\n",
    "\n",
    "\n",
    "import matplotlib.pyplot as plt\n",
    "import numpy as np\n",
    "\n",
    "\n",
    "def predict_ddos(pktcount, bytecount, pktperflow, byteperflow):\n",
    "    \n",
    "    # Load trained model\n",
    "    clf = joblib.load('model.pkl')\n",
    "    \n",
    "    \n",
    "    X = np.array([[pktcount, bytecount, pktperflow, byteperflow]])\n",
    "    \n",
    "    # Predict label\n",
    "    y_pred = clf.predict(X)\n",
    "    \n",
    "    \n",
    "    return y_pred[0]\n",
    "\n",
    "\n",
    "# Input from user\n",
    "\n",
    "pktcount = int(input(\"pktcount: \"))\n",
    "bytecount = int(input(\"bytecounts: \"))\n",
    "pktperflow = int(input(\"pktperflow \"))\n",
    "byteperflow = int(input(\"byteperflow \"))\n",
    "\n",
    "\n",
    "# Call predict function\n",
    "y_pred = predict_ddos(pktcount, bytecount, pktperflow, byteperflow)\n",
    "\n",
    "print()\n",
    "\n",
    "if y_pred == 0:\n",
    "    print(\"Traffic is  benign(0).\")\n",
    "else:\n",
    "    print(\"Traffic is malicious(1).\")"
   ]
  },
  {
   "cell_type": "code",
   "execution_count": null,
   "metadata": {},
   "outputs": [],
   "source": []
  }
 ],
 "metadata": {
  "colab": {
   "provenance": []
  },
  "kernelspec": {
   "display_name": "Python 3 (ipykernel)",
   "language": "python",
   "name": "python3"
  },
  "language_info": {
   "codemirror_mode": {
    "name": "ipython",
    "version": 3
   },
   "file_extension": ".py",
   "mimetype": "text/x-python",
   "name": "python",
   "nbconvert_exporter": "python",
   "pygments_lexer": "ipython3",
   "version": "3.10.9"
  }
 },
 "nbformat": 4,
 "nbformat_minor": 1
}
